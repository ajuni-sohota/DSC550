{
 "cells": [
  {
   "cell_type": "code",
   "execution_count": 1,
   "metadata": {},
   "outputs": [],
   "source": [
    "import abc"
   ]
  },
  {
   "cell_type": "code",
   "execution_count": 2,
   "metadata": {},
   "outputs": [],
   "source": [
    "class Dialog(abc.ABC):\n",
    "    def listen(self, text, response=True, **kwargs):\n",
    "        # Parse the input\n",
    "        sents = self.parse(text)\n",
    "        \n",
    "        # Interpret the input\n",
    "        sents, confidence, kwargs = self.interpret(sents, **kwargs)\n",
    "        \n",
    "        # Determine the response\n",
    "        if response:\n",
    "            reply = self.respond(sents, confidence, **kwargs)\n",
    "        else:\n",
    "            reply = None\n",
    "            \n",
    "        # Return initiative\n",
    "        return reply, confidence"
   ]
  },
  {
   "cell_type": "code",
   "execution_count": 3,
   "metadata": {},
   "outputs": [],
   "source": [
    "@abc.abstractmethod\n",
    "def parse(self, text):\n",
    "    return []"
   ]
  },
  {
   "cell_type": "code",
   "execution_count": 4,
   "metadata": {},
   "outputs": [],
   "source": [
    "@abc.abstractmethod\n",
    "def interpret(self, sents, **kwargs):\n",
    "    return sents, 0.0, kwargs"
   ]
  },
  {
   "cell_type": "code",
   "execution_count": 5,
   "metadata": {},
   "outputs": [],
   "source": [
    "@abc.abstractmethod\n",
    "def interpret(self, sents, **kwargs):\n",
    "    return None"
   ]
  },
  {
   "cell_type": "markdown",
   "metadata": {},
   "source": [
    "On `Conversation.listen` we will pass the incoming text to each of the internal `Dialog.listen` methods, which will in turn call the internal `Dialog` object's `parse, interpret`, and `response` methods. The result is a list of `(response, confidence)` tuples, and the `SimpleConversation` will return the response with the highest confidence, by using the `itemgetter` operator to retrieve the max by the second element of the tuple."
   ]
  },
  {
   "cell_type": "markdown",
   "metadata": {},
   "source": [
    "Because `SimpleConversation` is a `Dialog`, it *must* implement `parse, interpret` and `respond`."
   ]
  },
  {
   "cell_type": "code",
   "execution_count": 6,
   "metadata": {},
   "outputs": [],
   "source": [
    "from collections.abc import Sequence\n",
    "from operator import itemgetter\n",
    "\n",
    "class SimpleConversation(Dialog, Sequence):\n",
    "    def __init__(self, dialogs):\n",
    "        self._dialogs = dialogs\n",
    "        \n",
    "    def __getitem__(self, idx):\n",
    "        return self.dialogs(idx)\n",
    "    \n",
    "    def __len__(self):\n",
    "        return len(self._dialogs)\n",
    "    \n",
    "    def listen(self, text, response=True, **kwargs):\n",
    "        responses = [\n",
    "            dialog.listen(text, response, **kwargs)\n",
    "            for dialog in self._dialogs\n",
    "        ]\n",
    "        \n",
    "        # Responses is a list of (response, confidence) pairs\n",
    "        return max(responses, key=itemgetter[1])\n",
    "    \n",
    "    def parse(self, text):\n",
    "        return [dialog.parse(text) for dialog in self._dialogs]\n",
    "    \n",
    "    def interpret(self, sents, **kwargs):\n",
    "        return [dialog.interpret(sents, **kwargs) for dialog in self._dialogs]\n",
    "    \n",
    "    def respond(self, sents, confidence, **kwargs):\n",
    "        return [\n",
    "            dialog.respond(sents, confidence, **kwargs)\n",
    "            for dialog in self._dialogs\n",
    "        ]"
   ]
  },
  {
   "cell_type": "markdown",
   "metadata": {},
   "source": [
    "Now we will implement a rules-based greeting feature which uses regular expressions to match utterances. This version will maintain state primarily to acknowledge participants entering and leaving the dialog, and respond to them with appropriate salutations and questions."
   ]
  },
  {
   "cell_type": "code",
   "execution_count": 14,
   "metadata": {},
   "outputs": [],
   "source": [
    "import re\n",
    "\n",
    "class Greeting(Dialog):\n",
    "    PATTERNS = {\n",
    "        'greeting': r'hello|hi|hey|good morning|good evening',\n",
    "        'introduction': r'my name is ([a-z\\-\\s]+)',\n",
    "        'goodbye': r'goodbye|bye|ttyl',\n",
    "        'rollcall': r'roll call|who\\'s here?'\n",
    "    }\n",
    "    \n",
    "    def __init__(self, participants=None):\n",
    "        self.participants = {}\n",
    "        \n",
    "        if participants is not None:\n",
    "            for participant in participants:\n",
    "                self.participants[participant] = None\n",
    "                \n",
    "        # Compile regular expressions\n",
    "        self._patterns = {\n",
    "            key: re.compile(pattern, re.I)\n",
    "            for key, pattern in self.PATTERNS.items()\n",
    "        }\n",
    "        \n",
    "    def parse(self, text):\n",
    "        matches = {}\n",
    "        for key, pattern in self._patterns.items():\n",
    "            match = pattern.match(text)\n",
    "            if match is not None:\n",
    "                matches[key] = match\n",
    "        return matches\n",
    "    \n",
    "    def interpret(self, sents, **kwargs):\n",
    "        # Can't do anything with no matches\n",
    "        if len(sents) == 0:\n",
    "            return sents, 0.0, kwargs\n",
    "        \n",
    "        # Get username from the participants\n",
    "        user = kwargs.get('user', None)\n",
    "        \n",
    "        # Determine if an introductions has been made\n",
    "        if 'introduction' in sents:\n",
    "            # Get the name from the utterance\n",
    "            name = sents['introduction'].groups()[0]\n",
    "            user = user or name.lower()\n",
    "            \n",
    "            # Determine if name has changed\n",
    "            if user not in self.participants or self.participants[user] != name:\n",
    "                kwargs['name_changed'] = True\n",
    "                \n",
    "            # Update the participants\n",
    "            self.participants[user] = name\n",
    "            kwargs['user'] = user\n",
    "            \n",
    "        # Determine if a greeting has been made\n",
    "        if 'greeting' in sents:\n",
    "            # If we don't have a name for the user\n",
    "            if not self.participants.get(user, None):\n",
    "                kwargs['request_introduction'] = True\n",
    "                \n",
    "        # Determine if goodbye has been made\n",
    "        if 'goodbye' in sents and user is not None:\n",
    "            # Remove participant\n",
    "            self.participants.pop(user)\n",
    "            kwargs.pop('user', None)\n",
    "            \n",
    "        # If we've seen anything we're looking for, we're pretty confident.\n",
    "        return sents, 1.0, kwargs\n",
    "    \n",
    "    def respond(self, sents, confidence, **kwargs):\n",
    "        if confidence == 0:\n",
    "            return None\n",
    "        \n",
    "        name = self.participants.get(kwargs.get('user', None), None)\n",
    "        name_changed = kwargs.get('name_changed', False)\n",
    "        request_introduction = kwargs.get('request_introduction', False)\n",
    "        \n",
    "        if 'greeting' in sents or 'introduction' in sents:\n",
    "            if request_introduction:\n",
    "                return 'Hello, what is your name?'\n",
    "            else:\n",
    "                return \"Hello, {}!\".format(name)\n",
    "            \n",
    "        if 'goodbye' in sents:\n",
    "            return 'Talk to you later!'\n",
    "        \n",
    "        if 'rollcall' in sents:\n",
    "            people = list(self.participants.values())\n",
    "            \n",
    "            if len(people) > 1:\n",
    "                roster = \", \".join(people[:-1])\n",
    "                roster += \" and {}.\".format(people[-1])\n",
    "                return \"Currently in the conversation are \" + roster\n",
    "            \n",
    "            elif len(people) == 1:\n",
    "                return \"It's just you and me right now, {}\".format(name)\n",
    "            else:\n",
    "                return\"So lonely in here by myself... Wait, who is that?\"\n",
    "            \n",
    "        raise Exception(\"Expected response to be returned, but could not find rule.\")        "
   ]
  },
  {
   "cell_type": "code",
   "execution_count": 15,
   "metadata": {},
   "outputs": [
    {
     "name": "stdout",
     "output_type": "stream",
     "text": [
      "Hello, what is your name?\n"
     ]
    }
   ],
   "source": [
    "dialog = Greeting()\n",
    "\n",
    "print(dialog.listen(\"hey\", user=\"David\")[0])"
   ]
  },
  {
   "cell_type": "code",
   "execution_count": 16,
   "metadata": {},
   "outputs": [
    {
     "name": "stdout",
     "output_type": "stream",
     "text": [
      "Hello, David!\n"
     ]
    }
   ],
   "source": [
    "print(dialog.listen(\"My name is David\", user=\"David\")[0])"
   ]
  },
  {
   "cell_type": "code",
   "execution_count": 17,
   "metadata": {},
   "outputs": [
    {
     "name": "stdout",
     "output_type": "stream",
     "text": [
      "It's just you and me right now, David\n"
     ]
    }
   ],
   "source": [
    "print(dialog.listen(\"Roll call!\", user=\"David\")[0])"
   ]
  },
  {
   "cell_type": "code",
   "execution_count": 21,
   "metadata": {},
   "outputs": [
    {
     "name": "stdout",
     "output_type": "stream",
     "text": [
      "None\n"
     ]
    }
   ],
   "source": [
    "print(dialog.listen(\"Very well, goodbye!\", user=\"David\")[0])"
   ]
  },
  {
   "cell_type": "code",
   "execution_count": null,
   "metadata": {},
   "outputs": [],
   "source": []
  }
 ],
 "metadata": {
  "kernelspec": {
   "display_name": "Python 3",
   "language": "python",
   "name": "python3"
  },
  "language_info": {
   "codemirror_mode": {
    "name": "ipython",
    "version": 3
   },
   "file_extension": ".py",
   "mimetype": "text/x-python",
   "name": "python",
   "nbconvert_exporter": "python",
   "pygments_lexer": "ipython3",
   "version": "3.8.0"
  }
 },
 "nbformat": 4,
 "nbformat_minor": 4
}
