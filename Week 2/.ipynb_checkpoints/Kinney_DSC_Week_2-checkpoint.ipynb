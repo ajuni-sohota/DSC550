{
 "cells": [
  {
   "cell_type": "markdown",
   "metadata": {},
   "source": [
    "## D. Kinney DSC 550 Week 2: 2.2 Exercise: \n",
    "\n",
    "### Build Your Text Classifiers\n",
    "*****************************"
   ]
  },
  {
   "cell_type": "markdown",
   "metadata": {},
   "source": [
    "#### 1. You can find the data for this exercise in the Weekly Resources: Week 2 Data Files.\n",
    "\n",
    "**Preparing Text: For this part, you will start by reading the controversial-comments.json file into a DataFrame.**  \n",
    "1. Convert all text to lowercase letters.  \n",
    "2. Remove all punctuation from the text.  \n",
    "3. Remove stop words.  \n",
    "4. Apply NLTK’s PorterStemmer.  \n",
    "5. Use a Tf-idf vector instead of the word frequency vector.  \n",
    "\n",
    "#### 2. Complete the 5.3 Encoding Dictionaries of Features examples. Be sure to read the Discussion concerning keeping track of how many times a word is used in a document. Also be sure to run the example and read the Discussion from 6.9 Weighting Word Importance. Finally, consider tokenizing words or sentences (see 6.4) and tagging parts of speech (see 6.7) Be sure to review how to encode days of the week (see 7.6).\n",
    "\n",
    "**You can start with the #1 program and add to it or you can start a new program.**  \n",
    "1. Provide me with an example (besides counting words in a document) of how these techniques could be used. (Just a couple sentences.)  \n",
    "2. Then implement at least 3 of these Text techniques in a program demonstrating how your example could be accomplished. Be sure to include lots of comments.  \n",
    "3. You can create a datafile file or use one from the course resources. You must use DataFrames!  \n",
    "    ***************************************"
   ]
  },
  {
   "cell_type": "markdown",
   "metadata": {},
   "source": [
    "### Part One"
   ]
  },
  {
   "cell_type": "code",
   "execution_count": 1,
   "metadata": {},
   "outputs": [],
   "source": [
    "import pandas as pd\n",
    "pd.set_option('display.max_colwidth', -1)"
   ]
  },
  {
   "cell_type": "code",
   "execution_count": 2,
   "metadata": {},
   "outputs": [
    {
     "data": {
      "text/html": [
       "<div>\n",
       "<style scoped>\n",
       "    .dataframe tbody tr th:only-of-type {\n",
       "        vertical-align: middle;\n",
       "    }\n",
       "\n",
       "    .dataframe tbody tr th {\n",
       "        vertical-align: top;\n",
       "    }\n",
       "\n",
       "    .dataframe thead th {\n",
       "        text-align: right;\n",
       "    }\n",
       "</style>\n",
       "<table border=\"1\" class=\"dataframe\">\n",
       "  <thead>\n",
       "    <tr style=\"text-align: right;\">\n",
       "      <th></th>\n",
       "      <th>con</th>\n",
       "      <th>txt</th>\n",
       "    </tr>\n",
       "  </thead>\n",
       "  <tbody>\n",
       "    <tr>\n",
       "      <th>0</th>\n",
       "      <td>0</td>\n",
       "      <td>Well it's great that he did something about those beliefs while he was in office. I doubt Trump would fight the UN for it so I'm really really happy Obama did something while he could.......oh wait....</td>\n",
       "    </tr>\n",
       "    <tr>\n",
       "      <th>1</th>\n",
       "      <td>0</td>\n",
       "      <td>You are right Mr. President.</td>\n",
       "    </tr>\n",
       "    <tr>\n",
       "      <th>2</th>\n",
       "      <td>0</td>\n",
       "      <td>You have given no input apart from saying I am wrong. You have no argument clearly.</td>\n",
       "    </tr>\n",
       "    <tr>\n",
       "      <th>3</th>\n",
       "      <td>0</td>\n",
       "      <td>I get the frustration but the reason they want them to do it that way is because its the foundation for more complex problems as they advance in grades. I can get a decent grade on an SAT type test for math, but I don't really understand a lot of the mathematical ways to get the right answer. Lots of times you can figure out a \"common sense\" work around to a lot of the questions, but I would be ill prepared to take college level math courses despite the above average math score. \\n\\nThey're not just trying to bust the kids balls.</td>\n",
       "    </tr>\n",
       "    <tr>\n",
       "      <th>4</th>\n",
       "      <td>0</td>\n",
       "      <td>I am far from an expert on TPP and I would tend to agree that it had a lot of problems but my understanding was that Obama was pushing it to create an economic bulwark against China in the Pacific. \\n\\nHis administration recognized the increasing strength, maturity and bellicosity (see South China Sea) and recognized that the US and it's allies had to push for increased penetration into the many emerging markets that would otherwise naturally tend to align with China. \\n\\nI always thought it curious that in the many critiques of TPP you hardly saw mention of why Obama would be pushing for it. He hardly has he track record of someone trying to railroad workers for corporate interests so there must have been something he felt was hugely important to use so much political capital on something like TPP. \\n\\nMaybe TPP could have been better (it certainly seems so) yet maybe it was the best Obama could manage given the many and varied interests at play. However it does seem that it would have been in the US strategic interest and if we not only throw it out but begin a significant withdrawal from foreign markets that China will definitely move to fill the void. \\n\\nSo we may very well be looking at the end of Western economic hegemony with the election of Trump and the ascendency of other nationalistic movements in Britain, France and elsewhere. \\n\\nWhat's so sad is that it appears to be entirely self-inflicted. There is nothing forcing the retraction of the developed democracies, it seems to simply be the result of myopic reactions to globalism.</td>\n",
       "    </tr>\n",
       "  </tbody>\n",
       "</table>\n",
       "</div>"
      ],
      "text/plain": [
       "   con  \\\n",
       "0  0     \n",
       "1  0     \n",
       "2  0     \n",
       "3  0     \n",
       "4  0     \n",
       "\n",
       "                                                                                                                                                                                                                                                                                                                                                                                                                                                                                                                                                                                                                                                                                                                                                                                                                                                                                                                                                                                                                                                                                                                                                                                                                                                                                                                                                                                                                                                                                                                                                                                                                              txt  \n",
       "0  Well it's great that he did something about those beliefs while he was in office. I doubt Trump would fight the UN for it so I'm really really happy Obama did something while he could.......oh wait....                                                                                                                                                                                                                                                                                                                                                                                                                                                                                                                                                                                                                                                                                                                                                                                                                                                                                                                                                                                                                                                                                                                                                                                                                                                                                                                                                                                                                       \n",
       "1  You are right Mr. President.                                                                                                                                                                                                                                                                                                                                                                                                                                                                                                                                                                                                                                                                                                                                                                                                                                                                                                                                                                                                                                                                                                                                                                                                                                                                                                                                                                                                                                                                                                                                                                                                    \n",
       "2  You have given no input apart from saying I am wrong. You have no argument clearly.                                                                                                                                                                                                                                                                                                                                                                                                                                                                                                                                                                                                                                                                                                                                                                                                                                                                                                                                                                                                                                                                                                                                                                                                                                                                                                                                                                                                                                                                                                                                             \n",
       "3  I get the frustration but the reason they want them to do it that way is because its the foundation for more complex problems as they advance in grades. I can get a decent grade on an SAT type test for math, but I don't really understand a lot of the mathematical ways to get the right answer. Lots of times you can figure out a \"common sense\" work around to a lot of the questions, but I would be ill prepared to take college level math courses despite the above average math score. \\n\\nThey're not just trying to bust the kids balls.                                                                                                                                                                                                                                                                                                                                                                                                                                                                                                                                                                                                                                                                                                                                                                                                                                                                                                                                                                                                                                                                         \n",
       "4  I am far from an expert on TPP and I would tend to agree that it had a lot of problems but my understanding was that Obama was pushing it to create an economic bulwark against China in the Pacific. \\n\\nHis administration recognized the increasing strength, maturity and bellicosity (see South China Sea) and recognized that the US and it's allies had to push for increased penetration into the many emerging markets that would otherwise naturally tend to align with China. \\n\\nI always thought it curious that in the many critiques of TPP you hardly saw mention of why Obama would be pushing for it. He hardly has he track record of someone trying to railroad workers for corporate interests so there must have been something he felt was hugely important to use so much political capital on something like TPP. \\n\\nMaybe TPP could have been better (it certainly seems so) yet maybe it was the best Obama could manage given the many and varied interests at play. However it does seem that it would have been in the US strategic interest and if we not only throw it out but begin a significant withdrawal from foreign markets that China will definitely move to fill the void. \\n\\nSo we may very well be looking at the end of Western economic hegemony with the election of Trump and the ascendency of other nationalistic movements in Britain, France and elsewhere. \\n\\nWhat's so sad is that it appears to be entirely self-inflicted. There is nothing forcing the retraction of the developed democracies, it seems to simply be the result of myopic reactions to globalism.  "
      ]
     },
     "execution_count": 2,
     "metadata": {},
     "output_type": "execute_result"
    }
   ],
   "source": [
    "df_comments = pd.read_json('data/controversial-comments.jsonl', lines=True)\n",
    "df_comments.head()"
   ]
  },
  {
   "cell_type": "code",
   "execution_count": 3,
   "metadata": {},
   "outputs": [
    {
     "data": {
      "text/html": [
       "<div>\n",
       "<style scoped>\n",
       "    .dataframe tbody tr th:only-of-type {\n",
       "        vertical-align: middle;\n",
       "    }\n",
       "\n",
       "    .dataframe tbody tr th {\n",
       "        vertical-align: top;\n",
       "    }\n",
       "\n",
       "    .dataframe thead th {\n",
       "        text-align: right;\n",
       "    }\n",
       "</style>\n",
       "<table border=\"1\" class=\"dataframe\">\n",
       "  <thead>\n",
       "    <tr style=\"text-align: right;\">\n",
       "      <th></th>\n",
       "      <th>con</th>\n",
       "      <th>txt</th>\n",
       "    </tr>\n",
       "  </thead>\n",
       "  <tbody>\n",
       "    <tr>\n",
       "      <th>0</th>\n",
       "      <td>0</td>\n",
       "      <td>well it's great that he did something about those beliefs while he was in office. i doubt trump would fight the un for it so i'm really really happy obama did something while he could.......oh wait....</td>\n",
       "    </tr>\n",
       "    <tr>\n",
       "      <th>1</th>\n",
       "      <td>0</td>\n",
       "      <td>you are right mr. president.</td>\n",
       "    </tr>\n",
       "    <tr>\n",
       "      <th>2</th>\n",
       "      <td>0</td>\n",
       "      <td>you have given no input apart from saying i am wrong. you have no argument clearly.</td>\n",
       "    </tr>\n",
       "    <tr>\n",
       "      <th>3</th>\n",
       "      <td>0</td>\n",
       "      <td>i get the frustration but the reason they want them to do it that way is because its the foundation for more complex problems as they advance in grades. i can get a decent grade on an sat type test for math, but i don't really understand a lot of the mathematical ways to get the right answer. lots of times you can figure out a \"common sense\" work around to a lot of the questions, but i would be ill prepared to take college level math courses despite the above average math score. \\n\\nthey're not just trying to bust the kids balls.</td>\n",
       "    </tr>\n",
       "    <tr>\n",
       "      <th>4</th>\n",
       "      <td>0</td>\n",
       "      <td>i am far from an expert on tpp and i would tend to agree that it had a lot of problems but my understanding was that obama was pushing it to create an economic bulwark against china in the pacific. \\n\\nhis administration recognized the increasing strength, maturity and bellicosity (see south china sea) and recognized that the us and it's allies had to push for increased penetration into the many emerging markets that would otherwise naturally tend to align with china. \\n\\ni always thought it curious that in the many critiques of tpp you hardly saw mention of why obama would be pushing for it. he hardly has he track record of someone trying to railroad workers for corporate interests so there must have been something he felt was hugely important to use so much political capital on something like tpp. \\n\\nmaybe tpp could have been better (it certainly seems so) yet maybe it was the best obama could manage given the many and varied interests at play. however it does seem that it would have been in the us strategic interest and if we not only throw it out but begin a significant withdrawal from foreign markets that china will definitely move to fill the void. \\n\\nso we may very well be looking at the end of western economic hegemony with the election of trump and the ascendency of other nationalistic movements in britain, france and elsewhere. \\n\\nwhat's so sad is that it appears to be entirely self-inflicted. there is nothing forcing the retraction of the developed democracies, it seems to simply be the result of myopic reactions to globalism.</td>\n",
       "    </tr>\n",
       "  </tbody>\n",
       "</table>\n",
       "</div>"
      ],
      "text/plain": [
       "   con  \\\n",
       "0  0     \n",
       "1  0     \n",
       "2  0     \n",
       "3  0     \n",
       "4  0     \n",
       "\n",
       "                                                                                                                                                                                                                                                                                                                                                                                                                                                                                                                                                                                                                                                                                                                                                                                                                                                                                                                                                                                                                                                                                                                                                                                                                                                                                                                                                                                                                                                                                                                                                                                                                              txt  \n",
       "0  well it's great that he did something about those beliefs while he was in office. i doubt trump would fight the un for it so i'm really really happy obama did something while he could.......oh wait....                                                                                                                                                                                                                                                                                                                                                                                                                                                                                                                                                                                                                                                                                                                                                                                                                                                                                                                                                                                                                                                                                                                                                                                                                                                                                                                                                                                                                       \n",
       "1  you are right mr. president.                                                                                                                                                                                                                                                                                                                                                                                                                                                                                                                                                                                                                                                                                                                                                                                                                                                                                                                                                                                                                                                                                                                                                                                                                                                                                                                                                                                                                                                                                                                                                                                                    \n",
       "2  you have given no input apart from saying i am wrong. you have no argument clearly.                                                                                                                                                                                                                                                                                                                                                                                                                                                                                                                                                                                                                                                                                                                                                                                                                                                                                                                                                                                                                                                                                                                                                                                                                                                                                                                                                                                                                                                                                                                                             \n",
       "3  i get the frustration but the reason they want them to do it that way is because its the foundation for more complex problems as they advance in grades. i can get a decent grade on an sat type test for math, but i don't really understand a lot of the mathematical ways to get the right answer. lots of times you can figure out a \"common sense\" work around to a lot of the questions, but i would be ill prepared to take college level math courses despite the above average math score. \\n\\nthey're not just trying to bust the kids balls.                                                                                                                                                                                                                                                                                                                                                                                                                                                                                                                                                                                                                                                                                                                                                                                                                                                                                                                                                                                                                                                                         \n",
       "4  i am far from an expert on tpp and i would tend to agree that it had a lot of problems but my understanding was that obama was pushing it to create an economic bulwark against china in the pacific. \\n\\nhis administration recognized the increasing strength, maturity and bellicosity (see south china sea) and recognized that the us and it's allies had to push for increased penetration into the many emerging markets that would otherwise naturally tend to align with china. \\n\\ni always thought it curious that in the many critiques of tpp you hardly saw mention of why obama would be pushing for it. he hardly has he track record of someone trying to railroad workers for corporate interests so there must have been something he felt was hugely important to use so much political capital on something like tpp. \\n\\nmaybe tpp could have been better (it certainly seems so) yet maybe it was the best obama could manage given the many and varied interests at play. however it does seem that it would have been in the us strategic interest and if we not only throw it out but begin a significant withdrawal from foreign markets that china will definitely move to fill the void. \\n\\nso we may very well be looking at the end of western economic hegemony with the election of trump and the ascendency of other nationalistic movements in britain, france and elsewhere. \\n\\nwhat's so sad is that it appears to be entirely self-inflicted. there is nothing forcing the retraction of the developed democracies, it seems to simply be the result of myopic reactions to globalism.  "
      ]
     },
     "execution_count": 3,
     "metadata": {},
     "output_type": "execute_result"
    }
   ],
   "source": [
    "# Convert all text to lowercase letters.\n",
    "df_comments['txt'] = df_comments['txt'].str.lower()\n",
    "df_comments.head()"
   ]
  },
  {
   "cell_type": "code",
   "execution_count": 4,
   "metadata": {},
   "outputs": [
    {
     "data": {
      "text/html": [
       "<div>\n",
       "<style scoped>\n",
       "    .dataframe tbody tr th:only-of-type {\n",
       "        vertical-align: middle;\n",
       "    }\n",
       "\n",
       "    .dataframe tbody tr th {\n",
       "        vertical-align: top;\n",
       "    }\n",
       "\n",
       "    .dataframe thead th {\n",
       "        text-align: right;\n",
       "    }\n",
       "</style>\n",
       "<table border=\"1\" class=\"dataframe\">\n",
       "  <thead>\n",
       "    <tr style=\"text-align: right;\">\n",
       "      <th></th>\n",
       "      <th>con</th>\n",
       "      <th>txt</th>\n",
       "    </tr>\n",
       "  </thead>\n",
       "  <tbody>\n",
       "    <tr>\n",
       "      <th>0</th>\n",
       "      <td>0</td>\n",
       "      <td>well its great that he did something about those beliefs while he was in office i doubt trump would fight the un for it so im really really happy obama did something while he couldoh wait</td>\n",
       "    </tr>\n",
       "    <tr>\n",
       "      <th>1</th>\n",
       "      <td>0</td>\n",
       "      <td>you are right mr president</td>\n",
       "    </tr>\n",
       "    <tr>\n",
       "      <th>2</th>\n",
       "      <td>0</td>\n",
       "      <td>you have given no input apart from saying i am wrong you have no argument clearly</td>\n",
       "    </tr>\n",
       "    <tr>\n",
       "      <th>3</th>\n",
       "      <td>0</td>\n",
       "      <td>i get the frustration but the reason they want them to do it that way is because its the foundation for more complex problems as they advance in grades i can get a decent grade on an sat type test for math but i dont really understand a lot of the mathematical ways to get the right answer lots of times you can figure out a common sense work around to a lot of the questions but i would be ill prepared to take college level math courses despite the above average math score \\n\\ntheyre not just trying to bust the kids balls</td>\n",
       "    </tr>\n",
       "    <tr>\n",
       "      <th>4</th>\n",
       "      <td>0</td>\n",
       "      <td>i am far from an expert on tpp and i would tend to agree that it had a lot of problems but my understanding was that obama was pushing it to create an economic bulwark against china in the pacific \\n\\nhis administration recognized the increasing strength maturity and bellicosity see south china sea and recognized that the us and its allies had to push for increased penetration into the many emerging markets that would otherwise naturally tend to align with china \\n\\ni always thought it curious that in the many critiques of tpp you hardly saw mention of why obama would be pushing for it he hardly has he track record of someone trying to railroad workers for corporate interests so there must have been something he felt was hugely important to use so much political capital on something like tpp \\n\\nmaybe tpp could have been better it certainly seems so yet maybe it was the best obama could manage given the many and varied interests at play however it does seem that it would have been in the us strategic interest and if we not only throw it out but begin a significant withdrawal from foreign markets that china will definitely move to fill the void \\n\\nso we may very well be looking at the end of western economic hegemony with the election of trump and the ascendency of other nationalistic movements in britain france and elsewhere \\n\\nwhats so sad is that it appears to be entirely selfinflicted there is nothing forcing the retraction of the developed democracies it seems to simply be the result of myopic reactions to globalism</td>\n",
       "    </tr>\n",
       "  </tbody>\n",
       "</table>\n",
       "</div>"
      ],
      "text/plain": [
       "   con  \\\n",
       "0  0     \n",
       "1  0     \n",
       "2  0     \n",
       "3  0     \n",
       "4  0     \n",
       "\n",
       "                                                                                                                                                                                                                                                                                                                                                                                                                                                                                                                                                                                                                                                                                                                                                                                                                                                                                                                                                                                                                                                                                                                                                                                                                                                                                                                                                                                                                                                                                                                                                                                                           txt  \n",
       "0  well its great that he did something about those beliefs while he was in office i doubt trump would fight the un for it so im really really happy obama did something while he couldoh wait                                                                                                                                                                                                                                                                                                                                                                                                                                                                                                                                                                                                                                                                                                                                                                                                                                                                                                                                                                                                                                                                                                                                                                                                                                                                                                                                                                                                                  \n",
       "1  you are right mr president                                                                                                                                                                                                                                                                                                                                                                                                                                                                                                                                                                                                                                                                                                                                                                                                                                                                                                                                                                                                                                                                                                                                                                                                                                                                                                                                                                                                                                                                                                                                                                                   \n",
       "2  you have given no input apart from saying i am wrong you have no argument clearly                                                                                                                                                                                                                                                                                                                                                                                                                                                                                                                                                                                                                                                                                                                                                                                                                                                                                                                                                                                                                                                                                                                                                                                                                                                                                                                                                                                                                                                                                                                            \n",
       "3  i get the frustration but the reason they want them to do it that way is because its the foundation for more complex problems as they advance in grades i can get a decent grade on an sat type test for math but i dont really understand a lot of the mathematical ways to get the right answer lots of times you can figure out a common sense work around to a lot of the questions but i would be ill prepared to take college level math courses despite the above average math score \\n\\ntheyre not just trying to bust the kids balls                                                                                                                                                                                                                                                                                                                                                                                                                                                                                                                                                                                                                                                                                                                                                                                                                                                                                                                                                                                                                                                                \n",
       "4  i am far from an expert on tpp and i would tend to agree that it had a lot of problems but my understanding was that obama was pushing it to create an economic bulwark against china in the pacific \\n\\nhis administration recognized the increasing strength maturity and bellicosity see south china sea and recognized that the us and its allies had to push for increased penetration into the many emerging markets that would otherwise naturally tend to align with china \\n\\ni always thought it curious that in the many critiques of tpp you hardly saw mention of why obama would be pushing for it he hardly has he track record of someone trying to railroad workers for corporate interests so there must have been something he felt was hugely important to use so much political capital on something like tpp \\n\\nmaybe tpp could have been better it certainly seems so yet maybe it was the best obama could manage given the many and varied interests at play however it does seem that it would have been in the us strategic interest and if we not only throw it out but begin a significant withdrawal from foreign markets that china will definitely move to fill the void \\n\\nso we may very well be looking at the end of western economic hegemony with the election of trump and the ascendency of other nationalistic movements in britain france and elsewhere \\n\\nwhats so sad is that it appears to be entirely selfinflicted there is nothing forcing the retraction of the developed democracies it seems to simply be the result of myopic reactions to globalism  "
      ]
     },
     "execution_count": 4,
     "metadata": {},
     "output_type": "execute_result"
    }
   ],
   "source": [
    "# Remove all punctuation from the text (compare to text with periods above...)\n",
    "import unicodedata\n",
    "import sys\n",
    "\n",
    "# Create a dictionary of punctuation characters\n",
    "punctuation = dict.fromkeys(i for i in range(sys.maxunicode)\n",
    "                            if unicodedata.category(chr(i)).startswith('P'))\n",
    "\n",
    "# For each string, remove any punctuation characters\n",
    "df_comments['txt'] = [string.translate(punctuation) for string in df_comments['txt']]\n",
    "df_comments.head()"
   ]
  },
  {
   "cell_type": "code",
   "execution_count": 5,
   "metadata": {},
   "outputs": [],
   "source": [
    "# Tokenize words and then remove all stop words.\n",
    "import nltk\n",
    "from nltk.tokenize import word_tokenize\n",
    "from nltk.corpus import stopwords\n",
    "\n",
    "# nltk.download('stopwords')\n",
    "# nltk.download('punkt')\n",
    "\n",
    "stop_words = stopwords.words('english')"
   ]
  },
  {
   "cell_type": "code",
   "execution_count": 6,
   "metadata": {},
   "outputs": [
    {
     "data": {
      "text/html": [
       "<div>\n",
       "<style scoped>\n",
       "    .dataframe tbody tr th:only-of-type {\n",
       "        vertical-align: middle;\n",
       "    }\n",
       "\n",
       "    .dataframe tbody tr th {\n",
       "        vertical-align: top;\n",
       "    }\n",
       "\n",
       "    .dataframe thead th {\n",
       "        text-align: right;\n",
       "    }\n",
       "</style>\n",
       "<table border=\"1\" class=\"dataframe\">\n",
       "  <thead>\n",
       "    <tr style=\"text-align: right;\">\n",
       "      <th></th>\n",
       "      <th>con</th>\n",
       "      <th>txt</th>\n",
       "    </tr>\n",
       "  </thead>\n",
       "  <tbody>\n",
       "    <tr>\n",
       "      <th>0</th>\n",
       "      <td>0</td>\n",
       "      <td>[well, great, something, beliefs, office, doubt, trump, would, fight, un, im, really, really, happy, obama, something, couldoh, wait]</td>\n",
       "    </tr>\n",
       "    <tr>\n",
       "      <th>1</th>\n",
       "      <td>0</td>\n",
       "      <td>[right, mr, president]</td>\n",
       "    </tr>\n",
       "    <tr>\n",
       "      <th>2</th>\n",
       "      <td>0</td>\n",
       "      <td>[given, input, apart, saying, wrong, argument, clearly]</td>\n",
       "    </tr>\n",
       "    <tr>\n",
       "      <th>3</th>\n",
       "      <td>0</td>\n",
       "      <td>[get, frustration, reason, want, way, foundation, complex, problems, advance, grades, get, decent, grade, sat, type, test, math, dont, really, understand, lot, mathematical, ways, get, right, answer, lots, times, figure, common, sense, work, around, lot, questions, would, ill, prepared, take, college, level, math, courses, despite, average, math, score, theyre, trying, bust, kids, balls]</td>\n",
       "    </tr>\n",
       "    <tr>\n",
       "      <th>4</th>\n",
       "      <td>0</td>\n",
       "      <td>[far, expert, tpp, would, tend, agree, lot, problems, understanding, obama, pushing, create, economic, bulwark, china, pacific, administration, recognized, increasing, strength, maturity, bellicosity, see, south, china, sea, recognized, us, allies, push, increased, penetration, many, emerging, markets, would, otherwise, naturally, tend, align, china, always, thought, curious, many, critiques, tpp, hardly, saw, mention, obama, would, pushing, hardly, track, record, someone, trying, railroad, workers, corporate, interests, must, something, felt, hugely, important, use, much, political, capital, something, like, tpp, maybe, tpp, could, better, certainly, seems, yet, maybe, best, obama, could, manage, given, many, varied, interests, play, however, seem, would, us, strategic, interest, throw, begin, significant, ...]</td>\n",
       "    </tr>\n",
       "  </tbody>\n",
       "</table>\n",
       "</div>"
      ],
      "text/plain": [
       "   con  \\\n",
       "0  0     \n",
       "1  0     \n",
       "2  0     \n",
       "3  0     \n",
       "4  0     \n",
       "\n",
       "                                                                                                                                                                                                                                                                                                                                                                                                                                                                                                                                                                                                                                                                                                                                                                                                                                                       txt  \n",
       "0  [well, great, something, beliefs, office, doubt, trump, would, fight, un, im, really, really, happy, obama, something, couldoh, wait]                                                                                                                                                                                                                                                                                                                                                                                                                                                                                                                                                                                                                                                                                                                    \n",
       "1  [right, mr, president]                                                                                                                                                                                                                                                                                                                                                                                                                                                                                                                                                                                                                                                                                                                                                                                                                                   \n",
       "2  [given, input, apart, saying, wrong, argument, clearly]                                                                                                                                                                                                                                                                                                                                                                                                                                                                                                                                                                                                                                                                                                                                                                                                  \n",
       "3  [get, frustration, reason, want, way, foundation, complex, problems, advance, grades, get, decent, grade, sat, type, test, math, dont, really, understand, lot, mathematical, ways, get, right, answer, lots, times, figure, common, sense, work, around, lot, questions, would, ill, prepared, take, college, level, math, courses, despite, average, math, score, theyre, trying, bust, kids, balls]                                                                                                                                                                                                                                                                                                                                                                                                                                                   \n",
       "4  [far, expert, tpp, would, tend, agree, lot, problems, understanding, obama, pushing, create, economic, bulwark, china, pacific, administration, recognized, increasing, strength, maturity, bellicosity, see, south, china, sea, recognized, us, allies, push, increased, penetration, many, emerging, markets, would, otherwise, naturally, tend, align, china, always, thought, curious, many, critiques, tpp, hardly, saw, mention, obama, would, pushing, hardly, track, record, someone, trying, railroad, workers, corporate, interests, must, something, felt, hugely, important, use, much, political, capital, something, like, tpp, maybe, tpp, could, better, certainly, seems, yet, maybe, best, obama, could, manage, given, many, varied, interests, play, however, seem, would, us, strategic, interest, throw, begin, significant, ...]  "
      ]
     },
     "execution_count": 6,
     "metadata": {},
     "output_type": "execute_result"
    }
   ],
   "source": [
    "def remove_stop_words(comment):\n",
    "    comment = word_tokenize(comment)\n",
    "    return [word for word in comment if word not in stop_words]\n",
    "\n",
    "df_comments['txt'] = df_comments['txt'].apply(lambda x: remove_stop_words(x))\n",
    "df_comments.head()"
   ]
  },
  {
   "cell_type": "code",
   "execution_count": 7,
   "metadata": {},
   "outputs": [
    {
     "data": {
      "text/plain": [
       "0         [well, great, someth, belief, offic, doubt, trump, would, fight, un, im, realli, realli, happi, obama, someth, couldoh, wait]                                                                                                                                                                                                                                                                                                                                                                                                                                                                                                                                                                                                                                                   \n",
       "1         [right, mr, presid]                                                                                                                                                                                                                                                                                                                                                                                                                                                                                                                                                                                                                                                                                                                                                             \n",
       "2         [given, input, apart, say, wrong, argument, clearli]                                                                                                                                                                                                                                                                                                                                                                                                                                                                                                                                                                                                                                                                                                                            \n",
       "3         [get, frustrat, reason, want, way, foundat, complex, problem, advanc, grade, get, decent, grade, sat, type, test, math, dont, realli, understand, lot, mathemat, way, get, right, answer, lot, time, figur, common, sens, work, around, lot, question, would, ill, prepar, take, colleg, level, math, cours, despit, averag, math, score, theyr, tri, bust, kid, ball]                                                                                                                                                                                                                                                                                                                                                                                                          \n",
       "4         [far, expert, tpp, would, tend, agre, lot, problem, understand, obama, push, creat, econom, bulwark, china, pacif, administr, recogn, increas, strength, matur, bellicos, see, south, china, sea, recogn, us, alli, push, increas, penetr, mani, emerg, market, would, otherwis, natur, tend, align, china, alway, thought, curiou, mani, critiqu, tpp, hardli, saw, mention, obama, would, push, hardli, track, record, someon, tri, railroad, worker, corpor, interest, must, someth, felt, huge, import, use, much, polit, capit, someth, like, tpp, mayb, tpp, could, better, certainli, seem, yet, mayb, best, obama, could, manag, given, mani, vari, interest, play, howev, seem, would, us, strateg, interest, throw, begin, signific, ...]                             \n",
       "                                                                                                                                                                                                                                                                                                                                                                                 ...                                                                                                                                                                                                                                                                                                                                                                                                      \n",
       "949995    [genuin, cant, understand, anyon, support, point, ok, bought, hype, least, plausibl, he, nation, embarass]                                                                                                                                                                                                                                                                                                                                                                                                                                                                                                                                                                                                                                                                      \n",
       "949996    [remind, subreddit, civil, discussionhttpswwwredditcomrpoliticswikirulesandregswikipleasebecivil, call, user, troll, moron, children, anyth, els, clever, may, think, person, attack, whether, explicit, implicit, permittedhttpswwwredditcomrpoliticswikirulesandregswikinopersonalattack, accus, user, shill, believ, user, shill, proper, conduct, report, user, send, us, modmail, gener, dont, jerk, dont, bait, peopl, dont, use, hate, speech, etc, attack, idea, user, downvot, comment, disagre, will, upvot, qualiti, comment, whether, agre, opinion, held, incivil, result, perman, ban, subreddit, see, uncivil, comment, pleas, report, repli, incivil, bot, action, perform, automat, pleas, contact, moder, subredditmessagecomposeto=rpolit, question, concern]\n",
       "949997    [k, dont, explain, anyth]                                                                                                                                                                                                                                                                                                                                                                                                                                                                                                                                                                                                                                                                                                                                                       \n",
       "949998    [delet]                                                                                                                                                                                                                                                                                                                                                                                                                                                                                                                                                                                                                                                                                                                                                                         \n",
       "949999    [ya, sociopath, known, celebr, posit, feel, fuck, seriou, right]                                                                                                                                                                                                                                                                                                                                                                                                                                                                                                                                                                                                                                                                                                                \n",
       "Name: txt, Length: 950000, dtype: object"
      ]
     },
     "execution_count": 7,
     "metadata": {},
     "output_type": "execute_result"
    }
   ],
   "source": [
    "# Apply NLTK’s PorterStemmer.\n",
    "from nltk.stem.porter import PorterStemmer\n",
    "porter = PorterStemmer()\n",
    "\n",
    "def apply_stemmer(comment):\n",
    "    # comment = word_tokenize(comment)\n",
    "    return [porter.stem(word) for word in comment]\n",
    "\n",
    "df_comments['txt'].apply(lambda x: apply_stemmer(x))"
   ]
  },
  {
   "cell_type": "code",
   "execution_count": 8,
   "metadata": {},
   "outputs": [
    {
     "data": {
      "text/plain": [
       "array([[0.04522156, 0.04522156, 0.04522156, 0.04522156, 0.04522156,\n",
       "        0.04522156, 0.04522156, 0.04522156, 0.04522156, 0.04522156,\n",
       "        0.09044313, 0.04522156, 0.04522156, 0.04522156, 0.04522156,\n",
       "        0.04522156, 0.09044313, 0.04522156, 0.04522156, 0.04522156,\n",
       "        0.04522156, 0.04522156, 0.04522156, 0.04522156, 0.04522156,\n",
       "        0.04522156, 0.04522156, 0.04522156, 0.04522156, 0.04522156,\n",
       "        0.04522156, 0.04522156, 0.04522156, 0.04522156, 0.04522156,\n",
       "        0.04522156, 0.04522156, 0.04522156, 0.04522156, 0.04522156,\n",
       "        0.04522156, 0.04522156, 0.04522156, 0.13566469, 0.04522156,\n",
       "        0.04522156, 0.04522156, 0.04522156, 0.13566469, 0.04522156,\n",
       "        0.04522156, 0.04522156, 0.04522156, 0.04522156, 0.04522156,\n",
       "        0.09044313, 0.04522156, 0.04522156, 0.04522156, 0.04522156,\n",
       "        0.04522156, 0.04522156, 0.04522156, 0.04522156, 0.04522156,\n",
       "        0.04522156, 0.22610782, 0.04522156, 0.04522156, 0.04522156,\n",
       "        0.04522156, 0.04522156, 0.04522156, 0.04522156, 0.04522156,\n",
       "        0.04522156, 0.04522156, 0.04522156, 0.04522156, 0.04522156,\n",
       "        0.04522156, 0.04522156, 0.04522156, 0.04522156, 0.04522156,\n",
       "        0.04522156, 0.04522156, 0.04522156, 0.13566469, 0.09044313,\n",
       "        0.04522156, 0.04522156, 0.04522156, 0.04522156, 0.09044313,\n",
       "        0.04522156, 0.04522156, 0.04522156, 0.04522156, 0.04522156,\n",
       "        0.04522156, 0.04522156, 0.04522156, 0.04522156, 0.04522156,\n",
       "        0.04522156, 0.09044313, 0.04522156, 0.04522156, 0.04522156,\n",
       "        0.04522156, 0.09044313, 0.04522156, 0.04522156, 0.04522156,\n",
       "        0.04522156, 0.04522156, 0.04522156, 0.04522156, 0.13566469,\n",
       "        0.04522156, 0.04522156, 0.13566469, 0.04522156, 0.13566469,\n",
       "        0.04522156, 0.04522156, 0.04522156, 0.09044313, 0.04522156,\n",
       "        0.04522156, 0.04522156, 0.04522156, 0.04522156, 0.04522156,\n",
       "        0.04522156, 0.04522156, 0.04522156, 0.04522156, 0.18088625,\n",
       "        0.04522156, 0.04522156, 0.04522156, 0.04522156, 0.04522156,\n",
       "        0.04522156, 0.04522156, 0.04522156, 0.04522156, 0.04522156,\n",
       "        0.04522156, 0.04522156, 0.04522156, 0.04522156, 0.09044313,\n",
       "        0.04522156, 0.04522156, 0.04522156, 0.04522156, 0.04522156,\n",
       "        0.09044313, 0.04522156, 0.04522156, 0.09044313, 0.04522156,\n",
       "        0.09044313, 0.04522156, 0.13566469, 0.04522156, 0.09044313,\n",
       "        0.04522156, 0.04522156, 0.04522156, 0.09044313, 0.04522156,\n",
       "        0.13566469, 0.04522156, 0.04522156, 0.04522156, 0.04522156,\n",
       "        0.04522156, 0.04522156, 0.09044313, 0.04522156, 0.04522156,\n",
       "        0.04522156, 0.04522156, 0.04522156, 0.04522156, 0.04522156,\n",
       "        0.04522156, 0.04522156, 0.04522156, 0.18088625, 0.04522156,\n",
       "        0.04522156, 0.04522156, 0.04522156, 0.09044313, 0.04522156,\n",
       "        0.04522156, 0.04522156, 0.09044313, 0.04522156, 0.04522156,\n",
       "        0.04522156, 0.04522156, 0.04522156, 0.04522156, 0.18088625,\n",
       "        0.04522156, 0.04522156, 0.04522156, 0.09044313, 0.04522156,\n",
       "        0.04522156, 0.04522156, 0.04522156, 0.09044313, 0.04522156,\n",
       "        0.04522156, 0.13566469, 0.09044313, 0.09044313, 0.13566469,\n",
       "        0.04522156, 0.04522156, 0.04522156, 0.04522156, 0.04522156,\n",
       "        0.04522156, 0.09044313, 0.04522156, 0.04522156, 0.04522156,\n",
       "        0.27132938, 0.04522156, 0.04522156, 0.04522156]])"
      ]
     },
     "execution_count": 8,
     "metadata": {},
     "output_type": "execute_result"
    }
   ],
   "source": [
    "# Use a Tf-idf vector instead of the word frequency vector.\n",
    "import numpy as np\n",
    "from sklearn.feature_extraction.text import TfidfVectorizer\n",
    "    \n",
    "# Create the tf-idf feature matrix\n",
    "tfidf = TfidfVectorizer()\n",
    "feature_matrix = tfidf.fit_transform([str(df_comments['txt'])])\n",
    "feature_matrix.toarray()"
   ]
  },
  {
   "cell_type": "markdown",
   "metadata": {},
   "source": [
    "************************************************"
   ]
  },
  {
   "cell_type": "markdown",
   "metadata": {},
   "source": [
    "### Part Two"
   ]
  },
  {
   "cell_type": "markdown",
   "metadata": {},
   "source": [
    "**Provide me with an example (besides counting words in a document) of how these techniques could be used. (Just a couple sentences.)**\n",
    "\n",
    "Part One of this week's exercise provided an intuitive sense of how these functions can be used in typical workflow to take raw data and clean it, to transform it into data that is ingestible by machine language algorithms. As an example, while the dictionary data structure is ubiquitous in Python, most mainstream ML algorithms require matrices as input. Specifically in the realm of natural language processing, (NLP), it's imperative to \"remove the noise\"--stripping punctuation and stop words for example. \n",
    "\n",
    "Thinking about my life at \"the Bank\", I can envision using this technology to look for trends in such things as incident tickets or ATM failures. I would rank words by frequency in an attempt to uncover potentially major issues that are not noticeable in the day-to-day."
   ]
  },
  {
   "cell_type": "markdown",
   "metadata": {},
   "source": [
    "**Implement at least 3 of these Text techniques in a program demonstrating how your example could be accomplished.  Be sure to include lots of comments.**  \n",
    "\n",
    "I will use the controversial comments dataset from Part 1 above.\n",
    "\n",
    "In order to start with a clean dataset, the following techniques are applied:\n",
    "\n",
    "1. Convert all text to lowercase.\n",
    "2. Remove punctuation.\n",
    "3. Remove stop words. \n",
    "\n",
    "This leaves us with a clean dataset that we can now use for ranking word frequency. This step is performed using the **bag of words** technique."
   ]
  },
  {
   "cell_type": "code",
   "execution_count": 7,
   "metadata": {},
   "outputs": [
    {
     "data": {
      "text/html": [
       "<div>\n",
       "<style scoped>\n",
       "    .dataframe tbody tr th:only-of-type {\n",
       "        vertical-align: middle;\n",
       "    }\n",
       "\n",
       "    .dataframe tbody tr th {\n",
       "        vertical-align: top;\n",
       "    }\n",
       "\n",
       "    .dataframe thead th {\n",
       "        text-align: right;\n",
       "    }\n",
       "</style>\n",
       "<table border=\"1\" class=\"dataframe\">\n",
       "  <thead>\n",
       "    <tr style=\"text-align: right;\">\n",
       "      <th></th>\n",
       "      <th>con</th>\n",
       "      <th>txt</th>\n",
       "    </tr>\n",
       "  </thead>\n",
       "  <tbody>\n",
       "    <tr>\n",
       "      <th>0</th>\n",
       "      <td>0</td>\n",
       "      <td>[well, great, something, beliefs, office, doubt, trump, would, fight, un, im, really, really, happy, obama, something, couldoh, wait]</td>\n",
       "    </tr>\n",
       "    <tr>\n",
       "      <th>1</th>\n",
       "      <td>0</td>\n",
       "      <td>[right, mr, president]</td>\n",
       "    </tr>\n",
       "    <tr>\n",
       "      <th>2</th>\n",
       "      <td>0</td>\n",
       "      <td>[given, input, apart, saying, wrong, argument, clearly]</td>\n",
       "    </tr>\n",
       "    <tr>\n",
       "      <th>3</th>\n",
       "      <td>0</td>\n",
       "      <td>[get, frustration, reason, want, way, foundation, complex, problems, advance, grades, get, decent, grade, sat, type, test, math, dont, really, understand, lot, mathematical, ways, get, right, answer, lots, times, figure, common, sense, work, around, lot, questions, would, ill, prepared, take, college, level, math, courses, despite, average, math, score, theyre, trying, bust, kids, balls]</td>\n",
       "    </tr>\n",
       "    <tr>\n",
       "      <th>4</th>\n",
       "      <td>0</td>\n",
       "      <td>[far, expert, tpp, would, tend, agree, lot, problems, understanding, obama, pushing, create, economic, bulwark, china, pacific, administration, recognized, increasing, strength, maturity, bellicosity, see, south, china, sea, recognized, us, allies, push, increased, penetration, many, emerging, markets, would, otherwise, naturally, tend, align, china, always, thought, curious, many, critiques, tpp, hardly, saw, mention, obama, would, pushing, hardly, track, record, someone, trying, railroad, workers, corporate, interests, must, something, felt, hugely, important, use, much, political, capital, something, like, tpp, maybe, tpp, could, better, certainly, seems, yet, maybe, best, obama, could, manage, given, many, varied, interests, play, however, seem, would, us, strategic, interest, throw, begin, significant, ...]</td>\n",
       "    </tr>\n",
       "  </tbody>\n",
       "</table>\n",
       "</div>"
      ],
      "text/plain": [
       "   con  \\\n",
       "0  0     \n",
       "1  0     \n",
       "2  0     \n",
       "3  0     \n",
       "4  0     \n",
       "\n",
       "                                                                                                                                                                                                                                                                                                                                                                                                                                                                                                                                                                                                                                                                                                                                                                                                                                                       txt  \n",
       "0  [well, great, something, beliefs, office, doubt, trump, would, fight, un, im, really, really, happy, obama, something, couldoh, wait]                                                                                                                                                                                                                                                                                                                                                                                                                                                                                                                                                                                                                                                                                                                    \n",
       "1  [right, mr, president]                                                                                                                                                                                                                                                                                                                                                                                                                                                                                                                                                                                                                                                                                                                                                                                                                                   \n",
       "2  [given, input, apart, saying, wrong, argument, clearly]                                                                                                                                                                                                                                                                                                                                                                                                                                                                                                                                                                                                                                                                                                                                                                                                  \n",
       "3  [get, frustration, reason, want, way, foundation, complex, problems, advance, grades, get, decent, grade, sat, type, test, math, dont, really, understand, lot, mathematical, ways, get, right, answer, lots, times, figure, common, sense, work, around, lot, questions, would, ill, prepared, take, college, level, math, courses, despite, average, math, score, theyre, trying, bust, kids, balls]                                                                                                                                                                                                                                                                                                                                                                                                                                                   \n",
       "4  [far, expert, tpp, would, tend, agree, lot, problems, understanding, obama, pushing, create, economic, bulwark, china, pacific, administration, recognized, increasing, strength, maturity, bellicosity, see, south, china, sea, recognized, us, allies, push, increased, penetration, many, emerging, markets, would, otherwise, naturally, tend, align, china, always, thought, curious, many, critiques, tpp, hardly, saw, mention, obama, would, pushing, hardly, track, record, someone, trying, railroad, workers, corporate, interests, must, something, felt, hugely, important, use, much, political, capital, something, like, tpp, maybe, tpp, could, better, certainly, seems, yet, maybe, best, obama, could, manage, given, many, varied, interests, play, however, seem, would, us, strategic, interest, throw, begin, significant, ...]  "
      ]
     },
     "execution_count": 7,
     "metadata": {},
     "output_type": "execute_result"
    }
   ],
   "source": [
    "# Note that techniques 1 - 3 have already been performed:\n",
    "df_comments.head()"
   ]
  },
  {
   "cell_type": "markdown",
   "metadata": {},
   "source": [
    "******************************\n",
    "I really struggled with this. The examples in the book for the most part used **one** list of words. Making the transition to a **Series** of lists of text was really confusing. In the interest of meeting the Sunday deadline, I improvised. Still don't believe I accomplished the objective of the exercise and I'm prepared for the grading consequences. :-)\n",
    "*******************************"
   ]
  },
  {
   "cell_type": "code",
   "execution_count": 8,
   "metadata": {},
   "outputs": [],
   "source": [
    "def construct_bag_of_words(data):\n",
    "    bag_of_words = {}\n",
    "    word_count = 0\n",
    "    for sentence in data:\n",
    "        for word in sentence:\n",
    "            if word not in bag_of_words: # do not allow repetitions\n",
    "                bag_of_words[word] = word_count #set indexes\n",
    "                word_count+=1\n",
    "            \n",
    "    #print(dict(Counter(bag_of_words).most_common(5)))\n",
    "    return bag_of_words #index of letters\n",
    "\n",
    "bag_of_words = construct_bag_of_words(df_comments['txt'])"
   ]
  },
  {
   "cell_type": "code",
   "execution_count": null,
   "metadata": {},
   "outputs": [],
   "source": [
    "def featurize(sentence_tokens,bag_of_words):\n",
    "    sentence_features = [0 for x in range(len(bag_of_words))]\n",
    "\n",
    "    for word in sentence_tokens:\n",
    "        index = bag_of_words[word]\n",
    "        sentence_features[index] +=1\n",
    "    return sentence_features\n",
    "\n",
    "def get_batch_features(data,bag_of_words):\n",
    "    batch_features = []\n",
    "    reviews_text_tokens = data\n",
    "    for review_text in reviews_text_tokens:\n",
    "        feature_review_text = featurize(review_text,bag_of_words)\n",
    "        batch_features.append(feature_review_text)\n",
    "    return batch_features\n",
    "\n",
    "batch_features = get_batch_features(df_comments['txt'],bag_of_words)"
   ]
  },
  {
   "cell_type": "code",
   "execution_count": null,
   "metadata": {},
   "outputs": [],
   "source": [
    "print(dict(Counter(bag_of_words).most_common(5)))"
   ]
  }
 ],
 "metadata": {
  "kernelspec": {
   "display_name": "Python 3",
   "language": "python",
   "name": "python3"
  },
  "language_info": {
   "codemirror_mode": {
    "name": "ipython",
    "version": 3
   },
   "file_extension": ".py",
   "mimetype": "text/x-python",
   "name": "python",
   "nbconvert_exporter": "python",
   "pygments_lexer": "ipython3",
   "version": "3.7.3"
  }
 },
 "nbformat": 4,
 "nbformat_minor": 4
}
