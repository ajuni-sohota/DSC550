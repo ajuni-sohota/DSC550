{
  "nbformat": 4,
  "nbformat_minor": 0,
  "metadata": {
    "kernelspec": {
      "name": "python3",
      "display_name": "Python 3"
    },
    "language_info": {
      "codemirror_mode": {
        "name": "ipython",
        "version": 3
      },
      "file_extension": ".py",
      "mimetype": "text/x-python",
      "name": "python",
      "nbconvert_exporter": "python",
      "pygments_lexer": "ipython3",
      "version": "3.7.3"
    },
    "colab": {
      "name": "Kinney_DSC550_Exercise_9_3_V5.ipynb",
      "provenance": [],
      "collapsed_sections": [],
      "toc_visible": true
    },
    "accelerator": "GPU"
  },
  "cells": [
    {
      "cell_type": "markdown",
      "metadata": {
        "id": "eYRFxylc_gnj",
        "colab_type": "text"
      },
      "source": [
        "## D. Kinney DSC 550 9.3 Exercise: Neural Network Classifiers\n",
        "\n",
        "1. **Neural Network Classifier with Scikit**\n",
        "\n",
        "Using the multi-label classifier dataset from earlier exercises (categorized-comments.jsonl in the reddit folder), fit a neural network classifier using scikit-learn. Use the code found in chapter 12 of the Applied Text Analysis with Python book as a guideline. Report the accuracy, precision, recall, F1-score, and confusion matrix.\n",
        "\n",
        "2. **Neural Network Classifier with Keras**\n",
        "\n",
        "Using the multi-label classifier dataset from earlier exercises (categorized-comments.jsonl in the reddit folder), fit a neural network classifier using Keras. Use the code found in chapter 12 of the Applied Text Analysis with Python book as a guideline. Report the accuracy, precision, recall, F1-score, and confusion matrix.\n",
        "\n",
        "3. **Classifying Images**\n",
        "\n",
        "In chapter 20 of the Machine Learning with Python Cookbook, implement the code found in section 20.15 classify MSINT images using a convolutional neural network. Report the accuracy of your results."
      ]
    },
    {
      "cell_type": "markdown",
      "metadata": {
        "id": "SttqQTDC_gnm",
        "colab_type": "text"
      },
      "source": [
        "*********************************************\n",
        "#### 1. Neural Network Classifier with Scikit"
      ]
    },
    {
      "cell_type": "code",
      "metadata": {
        "id": "JjrV41pU_gnp",
        "colab_type": "code",
        "colab": {}
      },
      "source": [
        "import warnings\n",
        "warnings.filterwarnings(\"ignore\")\n",
        "\n",
        "import numpy as np\n",
        "import pandas as pd"
      ],
      "execution_count": 0,
      "outputs": []
    },
    {
      "cell_type": "code",
      "metadata": {
        "id": "JXEj9sGL_gnz",
        "colab_type": "code",
        "colab": {
          "base_uri": "https://localhost:8080/",
          "height": 34
        },
        "outputId": "530f34d4-3e54-4222-d85c-15de758b27f4"
      },
      "source": [
        "df = pd.read_csv('categorized-comments.csv')\n",
        "df.dropna(inplace=True)\n",
        "df.shape"
      ],
      "execution_count": 4,
      "outputs": [
        {
          "output_type": "execute_result",
          "data": {
            "text/plain": [
              "(606467, 3)"
            ]
          },
          "metadata": {
            "tags": []
          },
          "execution_count": 4
        }
      ]
    },
    {
      "cell_type": "code",
      "metadata": {
        "id": "NwAEdzc6NT94",
        "colab_type": "code",
        "colab": {}
      },
      "source": [
        "# This dataset is HUGE. Sample 50k observations...\n",
        "df = df.sample(50000)"
      ],
      "execution_count": 0,
      "outputs": []
    },
    {
      "cell_type": "code",
      "metadata": {
        "id": "mgH64n1UNgXc",
        "colab_type": "code",
        "colab": {
          "base_uri": "https://localhost:8080/",
          "height": 34
        },
        "outputId": "4ee55d23-bd9e-4b6c-fb50-c7d35d1ad338"
      },
      "source": [
        "df.shape"
      ],
      "execution_count": 9,
      "outputs": [
        {
          "output_type": "execute_result",
          "data": {
            "text/plain": [
              "(50000, 3)"
            ]
          },
          "metadata": {
            "tags": []
          },
          "execution_count": 9
        }
      ]
    },
    {
      "cell_type": "code",
      "metadata": {
        "jupyter": {
          "outputs_hidden": false
        },
        "id": "ORcb0-6K_gn5",
        "colab_type": "code",
        "colab": {
          "base_uri": "https://localhost:8080/",
          "height": 34
        },
        "outputId": "1cee190c-4ff4-46a4-b3c7-d4463ae61c20"
      },
      "source": [
        "# Extracting features from text files\n",
        "from sklearn.feature_extraction.text import CountVectorizer\n",
        "count_vect = CountVectorizer()\n",
        "X_train_counts = count_vect.fit_transform(df.txt)\n",
        "X_train_counts.shape"
      ],
      "execution_count": 10,
      "outputs": [
        {
          "output_type": "execute_result",
          "data": {
            "text/plain": [
              "(50000, 41435)"
            ]
          },
          "metadata": {
            "tags": []
          },
          "execution_count": 10
        }
      ]
    },
    {
      "cell_type": "code",
      "metadata": {
        "jupyter": {
          "outputs_hidden": false
        },
        "id": "h9qRkG-E_gn-",
        "colab_type": "code",
        "colab": {
          "base_uri": "https://localhost:8080/",
          "height": 34
        },
        "outputId": "abdad09e-abc5-433f-c2b6-9e80f35e325f"
      },
      "source": [
        "# TF-IDF\n",
        "from sklearn.feature_extraction.text import TfidfTransformer\n",
        "tfidf_transformer = TfidfTransformer()\n",
        "X_train_tfidf = tfidf_transformer.fit_transform(X_train_counts)\n",
        "X_train_tfidf.shape"
      ],
      "execution_count": 11,
      "outputs": [
        {
          "output_type": "execute_result",
          "data": {
            "text/plain": [
              "(50000, 41435)"
            ]
          },
          "metadata": {
            "tags": []
          },
          "execution_count": 11
        }
      ]
    },
    {
      "cell_type": "code",
      "metadata": {
        "id": "iTZF68UQ_goG",
        "colab_type": "code",
        "colab": {}
      },
      "source": [
        "# Train Multi-layer Perceptron (MLP) classifier on training data.\n",
        "from sklearn.neural_network import MLPClassifier\n",
        "mlp_clf = MLPClassifier().fit(X_train_tfidf, df.cat)"
      ],
      "execution_count": 0,
      "outputs": []
    },
    {
      "cell_type": "code",
      "metadata": {
        "jupyter": {
          "outputs_hidden": false
        },
        "id": "o3pd9FAX_goM",
        "colab_type": "code",
        "colab": {
          "base_uri": "https://localhost:8080/",
          "height": 1000
        },
        "outputId": "eaa5363e-2e66-4a5d-be05-e13515e65d4d"
      },
      "source": [
        "# Performance of MLP Classifier\n",
        "from sklearn.model_selection import train_test_split\n",
        "X_train, X_test, y_train, y_test = train_test_split(\n",
        "    df.txt, df.cat, test_size=0.33, random_state=42)\n",
        "\n",
        "# Consolidate steps into a pipeline...\n",
        "from sklearn.pipeline import Pipeline\n",
        "from sklearn.model_selection import cross_val_score\n",
        "\n",
        "text_clf = Pipeline([\n",
        "    ('vect', CountVectorizer()), \n",
        "    ('tfidf', TfidfTransformer()), \n",
        "    ('ann', MLPClassifier(hidden_layer_sizes=[30,30],\n",
        "                          max_iter=50, \n",
        "                          verbose = True))]) \n",
        "scoring = 'f1_micro'\n",
        "scores = cross_val_score(text_clf, X_train, y_train, scoring=scoring)\n",
        "text_clf = text_clf.fit(X_train, y_train)"
      ],
      "execution_count": 21,
      "outputs": [
        {
          "output_type": "stream",
          "text": [
            "Iteration 1, loss = 0.84887997\n",
            "Iteration 2, loss = 0.52073163\n",
            "Iteration 3, loss = 0.35671557\n",
            "Iteration 4, loss = 0.25550017\n",
            "Iteration 5, loss = 0.19867513\n",
            "Iteration 6, loss = 0.16683300\n",
            "Iteration 7, loss = 0.14523074\n",
            "Iteration 8, loss = 0.13189494\n",
            "Iteration 9, loss = 0.12203169\n",
            "Iteration 10, loss = 0.11379164\n",
            "Iteration 11, loss = 0.10850873\n",
            "Iteration 12, loss = 0.10200501\n",
            "Iteration 13, loss = 0.09708455\n",
            "Iteration 14, loss = 0.09192045\n",
            "Iteration 15, loss = 0.08938363\n",
            "Iteration 16, loss = 0.08477371\n",
            "Iteration 17, loss = 0.08184813\n",
            "Iteration 18, loss = 0.07996164\n",
            "Iteration 19, loss = 0.07608177\n",
            "Iteration 20, loss = 0.07397218\n",
            "Iteration 21, loss = 0.07279138\n",
            "Iteration 22, loss = 0.07070569\n",
            "Iteration 23, loss = 0.06909621\n",
            "Iteration 24, loss = 0.06777370\n",
            "Iteration 25, loss = 0.06679954\n",
            "Iteration 26, loss = 0.06505657\n",
            "Iteration 27, loss = 0.06428570\n",
            "Iteration 28, loss = 0.06264496\n",
            "Iteration 29, loss = 0.06290985\n",
            "Iteration 30, loss = 0.06146980\n",
            "Iteration 31, loss = 0.06171653\n",
            "Iteration 32, loss = 0.05995414\n",
            "Iteration 33, loss = 0.05996245\n",
            "Iteration 34, loss = 0.05916362\n",
            "Iteration 35, loss = 0.05807341\n",
            "Iteration 36, loss = 0.05862765\n",
            "Iteration 37, loss = 0.05740598\n",
            "Iteration 38, loss = 0.05805810\n",
            "Iteration 39, loss = 0.05727387\n",
            "Iteration 40, loss = 0.05693256\n",
            "Iteration 41, loss = 0.05652894\n",
            "Iteration 42, loss = 0.05672476\n",
            "Iteration 43, loss = 0.05583562\n",
            "Iteration 44, loss = 0.05602261\n",
            "Iteration 45, loss = 0.05610112\n",
            "Iteration 46, loss = 0.05591796\n",
            "Iteration 47, loss = 0.05582174\n",
            "Iteration 48, loss = 0.05543330\n",
            "Iteration 49, loss = 0.05418816\n",
            "Iteration 50, loss = 0.05535982\n",
            "Iteration 1, loss = 0.67309117\n",
            "Iteration 2, loss = 0.45037021\n",
            "Iteration 3, loss = 0.31681743\n",
            "Iteration 4, loss = 0.24263590\n",
            "Iteration 5, loss = 0.18857075\n",
            "Iteration 6, loss = 0.15287165\n",
            "Iteration 7, loss = 0.13111678\n",
            "Iteration 8, loss = 0.11536382\n",
            "Iteration 9, loss = 0.10465437\n",
            "Iteration 10, loss = 0.09528432\n",
            "Iteration 11, loss = 0.08820440\n",
            "Iteration 12, loss = 0.08310691\n",
            "Iteration 13, loss = 0.07879417\n",
            "Iteration 14, loss = 0.07536038\n",
            "Iteration 15, loss = 0.07168741\n",
            "Iteration 16, loss = 0.06953470\n",
            "Iteration 17, loss = 0.06749027\n",
            "Iteration 18, loss = 0.06600007\n",
            "Iteration 19, loss = 0.06422474\n",
            "Iteration 20, loss = 0.06319357\n",
            "Iteration 21, loss = 0.06187760\n",
            "Iteration 22, loss = 0.06059041\n",
            "Iteration 23, loss = 0.06029724\n",
            "Iteration 24, loss = 0.06006658\n",
            "Iteration 25, loss = 0.05863424\n",
            "Iteration 26, loss = 0.05813320\n",
            "Iteration 27, loss = 0.05841107\n",
            "Iteration 28, loss = 0.05714949\n",
            "Iteration 29, loss = 0.05710460\n",
            "Iteration 30, loss = 0.05633886\n",
            "Iteration 31, loss = 0.05574820\n",
            "Iteration 32, loss = 0.05610437\n",
            "Iteration 33, loss = 0.05553260\n",
            "Iteration 34, loss = 0.05510739\n",
            "Iteration 35, loss = 0.05492132\n",
            "Iteration 36, loss = 0.05485958\n",
            "Iteration 37, loss = 0.05430342\n",
            "Iteration 38, loss = 0.05558115\n",
            "Iteration 39, loss = 0.05453696\n",
            "Iteration 40, loss = 0.05406774\n",
            "Iteration 41, loss = 0.05385484\n",
            "Iteration 42, loss = 0.05400209\n",
            "Iteration 43, loss = 0.05409025\n",
            "Iteration 44, loss = 0.05344261\n",
            "Iteration 45, loss = 0.05322581\n",
            "Iteration 46, loss = 0.05323651\n",
            "Iteration 47, loss = 0.05368200\n",
            "Iteration 48, loss = 0.05377913\n",
            "Iteration 49, loss = 0.05259629\n",
            "Iteration 50, loss = 0.05326691\n",
            "Iteration 1, loss = 0.77697037\n",
            "Iteration 2, loss = 0.54017034\n",
            "Iteration 3, loss = 0.35314412\n",
            "Iteration 4, loss = 0.25337634\n",
            "Iteration 5, loss = 0.19879523\n",
            "Iteration 6, loss = 0.16548198\n",
            "Iteration 7, loss = 0.14215000\n",
            "Iteration 8, loss = 0.12650503\n",
            "Iteration 9, loss = 0.11456465\n",
            "Iteration 10, loss = 0.10525058\n",
            "Iteration 11, loss = 0.09838030\n",
            "Iteration 12, loss = 0.09196006\n",
            "Iteration 13, loss = 0.08741352\n",
            "Iteration 14, loss = 0.08296041\n",
            "Iteration 15, loss = 0.07893176\n",
            "Iteration 16, loss = 0.07572537\n",
            "Iteration 17, loss = 0.07381157\n",
            "Iteration 18, loss = 0.07105710\n",
            "Iteration 19, loss = 0.06848995\n",
            "Iteration 20, loss = 0.06703669\n",
            "Iteration 21, loss = 0.06592850\n",
            "Iteration 22, loss = 0.06464159\n",
            "Iteration 23, loss = 0.06288855\n",
            "Iteration 24, loss = 0.06198930\n",
            "Iteration 25, loss = 0.06170532\n",
            "Iteration 26, loss = 0.06054242\n",
            "Iteration 27, loss = 0.05982372\n",
            "Iteration 28, loss = 0.05916729\n",
            "Iteration 29, loss = 0.05839233\n",
            "Iteration 30, loss = 0.05816237\n",
            "Iteration 31, loss = 0.05774326\n",
            "Iteration 32, loss = 0.05713092\n",
            "Iteration 33, loss = 0.05686266\n",
            "Iteration 34, loss = 0.05623313\n",
            "Iteration 35, loss = 0.05594693\n",
            "Iteration 36, loss = 0.05637011\n",
            "Iteration 37, loss = 0.05575240\n",
            "Iteration 38, loss = 0.05524260\n",
            "Iteration 39, loss = 0.05503281\n",
            "Iteration 40, loss = 0.05447842\n",
            "Iteration 41, loss = 0.05428738\n",
            "Iteration 42, loss = 0.05404020\n",
            "Iteration 43, loss = 0.05386273\n",
            "Iteration 44, loss = 0.05430649\n",
            "Iteration 45, loss = 0.05450857\n",
            "Iteration 46, loss = 0.05341072\n",
            "Iteration 47, loss = 0.05325619\n",
            "Iteration 48, loss = 0.05304243\n",
            "Iteration 49, loss = 0.05342356\n",
            "Iteration 50, loss = 0.05304336\n",
            "Iteration 1, loss = 0.76461241\n",
            "Iteration 2, loss = 0.48088961\n",
            "Iteration 3, loss = 0.33467572\n",
            "Iteration 4, loss = 0.24325578\n",
            "Iteration 5, loss = 0.19499714\n",
            "Iteration 6, loss = 0.16755487\n",
            "Iteration 7, loss = 0.14818773\n",
            "Iteration 8, loss = 0.13389485\n",
            "Iteration 9, loss = 0.12227042\n",
            "Iteration 10, loss = 0.11359818\n",
            "Iteration 11, loss = 0.10594295\n",
            "Iteration 12, loss = 0.09896214\n",
            "Iteration 13, loss = 0.09268139\n",
            "Iteration 14, loss = 0.08787472\n",
            "Iteration 15, loss = 0.08385041\n",
            "Iteration 16, loss = 0.08051079\n",
            "Iteration 17, loss = 0.07795450\n",
            "Iteration 18, loss = 0.07510106\n",
            "Iteration 19, loss = 0.07250949\n",
            "Iteration 20, loss = 0.07095931\n",
            "Iteration 21, loss = 0.07046208\n",
            "Iteration 22, loss = 0.06826184\n",
            "Iteration 23, loss = 0.06671446\n",
            "Iteration 24, loss = 0.06522397\n",
            "Iteration 25, loss = 0.06518178\n",
            "Iteration 26, loss = 0.06431421\n",
            "Iteration 27, loss = 0.06356603\n",
            "Iteration 28, loss = 0.06280627\n",
            "Iteration 29, loss = 0.06287874\n",
            "Iteration 30, loss = 0.06179144\n",
            "Iteration 31, loss = 0.06130905\n",
            "Iteration 32, loss = 0.06124209\n",
            "Iteration 33, loss = 0.06069178\n",
            "Iteration 34, loss = 0.06005312\n",
            "Iteration 35, loss = 0.05974963\n",
            "Iteration 36, loss = 0.05954811\n",
            "Iteration 37, loss = 0.05935945\n",
            "Iteration 38, loss = 0.05906320\n",
            "Iteration 39, loss = 0.05876614\n",
            "Iteration 40, loss = 0.05848134\n",
            "Iteration 41, loss = 0.05809934\n",
            "Iteration 42, loss = 0.05831358\n",
            "Iteration 43, loss = 0.05752938\n",
            "Iteration 44, loss = 0.05798963\n",
            "Iteration 45, loss = 0.05732504\n",
            "Iteration 46, loss = 0.05684702\n",
            "Iteration 47, loss = 0.05728310\n",
            "Iteration 48, loss = 0.05746240\n",
            "Iteration 49, loss = 0.05645309\n",
            "Iteration 50, loss = 0.05663706\n",
            "Iteration 1, loss = 0.92998162\n",
            "Iteration 2, loss = 0.59104600\n",
            "Iteration 3, loss = 0.40256685\n",
            "Iteration 4, loss = 0.27703151\n",
            "Iteration 5, loss = 0.20809921\n",
            "Iteration 6, loss = 0.16910580\n",
            "Iteration 7, loss = 0.14495391\n",
            "Iteration 8, loss = 0.12779808\n",
            "Iteration 9, loss = 0.11469809\n",
            "Iteration 10, loss = 0.10457363\n",
            "Iteration 11, loss = 0.09559249\n",
            "Iteration 12, loss = 0.08834123\n",
            "Iteration 13, loss = 0.08370623\n",
            "Iteration 14, loss = 0.07886616\n",
            "Iteration 15, loss = 0.07451570\n",
            "Iteration 16, loss = 0.07120444\n",
            "Iteration 17, loss = 0.06826449\n",
            "Iteration 18, loss = 0.06576212\n",
            "Iteration 19, loss = 0.06437453\n",
            "Iteration 20, loss = 0.06326631\n",
            "Iteration 21, loss = 0.06146832\n",
            "Iteration 22, loss = 0.06046698\n",
            "Iteration 23, loss = 0.06023422\n",
            "Iteration 24, loss = 0.05908203\n",
            "Iteration 25, loss = 0.05774760\n",
            "Iteration 26, loss = 0.05799442\n",
            "Iteration 27, loss = 0.05662747\n",
            "Iteration 28, loss = 0.05633619\n",
            "Iteration 29, loss = 0.05604892\n",
            "Iteration 30, loss = 0.05582608\n",
            "Iteration 31, loss = 0.05476448\n",
            "Iteration 32, loss = 0.05452099\n",
            "Iteration 33, loss = 0.05424445\n",
            "Iteration 34, loss = 0.05488237\n",
            "Iteration 35, loss = 0.05355073\n",
            "Iteration 36, loss = 0.05377911\n",
            "Iteration 37, loss = 0.05321831\n",
            "Iteration 38, loss = 0.05313837\n",
            "Iteration 39, loss = 0.05339100\n",
            "Iteration 40, loss = 0.05339779\n",
            "Iteration 41, loss = 0.05238620\n",
            "Iteration 42, loss = 0.05336519\n",
            "Iteration 43, loss = 0.05269713\n",
            "Iteration 44, loss = 0.05245726\n",
            "Iteration 45, loss = 0.05224174\n",
            "Iteration 46, loss = 0.05184087\n",
            "Iteration 47, loss = 0.05203895\n",
            "Iteration 48, loss = 0.05159478\n",
            "Iteration 49, loss = 0.05164401\n",
            "Iteration 50, loss = 0.05150830\n",
            "Iteration 1, loss = 0.68209442\n",
            "Iteration 2, loss = 0.42052188\n",
            "Iteration 3, loss = 0.28875753\n",
            "Iteration 4, loss = 0.21828348\n",
            "Iteration 5, loss = 0.18126584\n",
            "Iteration 6, loss = 0.15770151\n",
            "Iteration 7, loss = 0.14365085\n",
            "Iteration 8, loss = 0.13097770\n",
            "Iteration 9, loss = 0.12239571\n",
            "Iteration 10, loss = 0.11537024\n",
            "Iteration 11, loss = 0.10871459\n",
            "Iteration 12, loss = 0.10237792\n",
            "Iteration 13, loss = 0.09771899\n",
            "Iteration 14, loss = 0.09206192\n",
            "Iteration 15, loss = 0.08940771\n",
            "Iteration 16, loss = 0.08488443\n",
            "Iteration 17, loss = 0.08167321\n",
            "Iteration 18, loss = 0.07849968\n",
            "Iteration 19, loss = 0.07673163\n",
            "Iteration 20, loss = 0.07447613\n",
            "Iteration 21, loss = 0.07309821\n",
            "Iteration 22, loss = 0.07116532\n",
            "Iteration 23, loss = 0.06966833\n",
            "Iteration 24, loss = 0.06776393\n",
            "Iteration 25, loss = 0.06681045\n",
            "Iteration 26, loss = 0.06602506\n",
            "Iteration 27, loss = 0.06492771\n",
            "Iteration 28, loss = 0.06486872\n",
            "Iteration 29, loss = 0.06476880\n",
            "Iteration 30, loss = 0.06274574\n",
            "Iteration 31, loss = 0.06230951\n",
            "Iteration 32, loss = 0.06159552\n",
            "Iteration 33, loss = 0.06102171\n",
            "Iteration 34, loss = 0.06056147\n",
            "Iteration 35, loss = 0.06043901\n",
            "Iteration 36, loss = 0.06002965\n",
            "Iteration 37, loss = 0.05959614\n",
            "Iteration 38, loss = 0.05921115\n",
            "Iteration 39, loss = 0.05872895\n",
            "Iteration 40, loss = 0.05873709\n",
            "Iteration 41, loss = 0.05899795\n",
            "Iteration 42, loss = 0.05773979\n",
            "Iteration 43, loss = 0.05747608\n",
            "Iteration 44, loss = 0.05790068\n",
            "Iteration 45, loss = 0.05699010\n",
            "Iteration 46, loss = 0.05698256\n",
            "Iteration 47, loss = 0.05661485\n",
            "Iteration 48, loss = 0.05609048\n",
            "Iteration 49, loss = 0.05574129\n",
            "Iteration 50, loss = 0.05645128\n"
          ],
          "name": "stdout"
        }
      ]
    },
    {
      "cell_type": "code",
      "metadata": {
        "id": "Helxe7PNpFz7",
        "colab_type": "code",
        "colab": {
          "base_uri": "https://localhost:8080/",
          "height": 323
        },
        "outputId": "80b47bd8-4045-4131-a4e1-43b9e3e08370"
      },
      "source": [
        "from sklearn.metrics import accuracy_score, confusion_matrix, precision_recall_fscore_support\n",
        "from sklearn.metrics import classification_report\n",
        "\n",
        "print(f\"f1 scores: {scores}\")\n",
        "predicted = text_clf.predict(X_test)\n",
        "print(\"Accuracy: \", np.mean(predicted == y_test))\n",
        "\n",
        "print(\"Confusion Matrix:\\n\", confusion_matrix(y_test, predicted))\n",
        "print(\"Classification Report:\\n\", classification_report(y_test,predicted))\n",
        "print(\"Accuracy: \", accuracy_score(y_test,predicted))"
      ],
      "execution_count": 24,
      "outputs": [
        {
          "output_type": "stream",
          "text": [
            "f1 scores: [0.78402985 0.7819403  0.77985075 0.78701493 0.79104478]\n",
            "0.7914545454545454\n",
            "Confusion Matrix:\n",
            "  [[  301    65   287]\n",
            " [   55  2433  1490]\n",
            " [  203  1341 10325]]\n",
            "Classification Report:\n",
            "                          precision    recall  f1-score   support\n",
            "\n",
            "science_and_technology       0.54      0.46      0.50       653\n",
            "                sports       0.63      0.61      0.62      3978\n",
            "           video_games       0.85      0.87      0.86     11869\n",
            "\n",
            "              accuracy                           0.79     16500\n",
            "             macro avg       0.68      0.65      0.66     16500\n",
            "          weighted avg       0.79      0.79      0.79     16500\n",
            "\n",
            "Accuracy:  0.7914545454545454\n"
          ],
          "name": "stdout"
        }
      ]
    },
    {
      "cell_type": "markdown",
      "metadata": {
        "id": "IHfnMS4N_goS",
        "colab_type": "text"
      },
      "source": [
        "*********************************************\n",
        "#### 2. Neural Network Classifier with Keras"
      ]
    },
    {
      "cell_type": "code",
      "metadata": {
        "id": "b4MVgGgw_goU",
        "colab_type": "code",
        "colab": {},
        "outputId": "6334440e-94f9-4e32-fd83-f9279e4b64de"
      },
      "source": [
        "from keras.layers import Dense \n",
        "from keras.models import Sequential \n",
        "\n",
        "N_FEATURES = 5000 \n",
        "N_CLASSES = 4 \n",
        "\n",
        "def build_network():\n",
        "    \"\"\" \n",
        "    Create a function that returns a compiled neural network \n",
        "    \"\"\" \n",
        "    nn = Sequential() \n",
        "    nn.add( Dense( 500, activation ='relu', input_shape =( N_FEATURES,))) \n",
        "    nn.add( Dense( 150, activation ='relu')) \n",
        "    nn.add( Dense( N_CLASSES, activation ='softmax')) \n",
        "    nn.compile( \n",
        "        loss ='categorical_crossentropy', \n",
        "        optimizer ='adam', \n",
        "        metrics =['accuracy'] ) \n",
        "    return nn"
      ],
      "execution_count": 0,
      "outputs": [
        {
          "output_type": "stream",
          "text": [
            "Using TensorFlow backend.\n"
          ],
          "name": "stderr"
        }
      ]
    },
    {
      "cell_type": "code",
      "metadata": {
        "id": "8yXphAyW_goa",
        "colab_type": "code",
        "colab": {}
      },
      "source": [
        "from keras.wrappers.scikit_learn import KerasClassifier \n",
        "from sklearn.feature_extraction.text import TfidfVectorizer \n",
        "\n",
        "pipeline = Pipeline([ \n",
        "    ('vect', CountVectorizer()),\n",
        "    ('vect', TfidfVectorizer( max_features = N_FEATURES)), \n",
        "    ('nn', KerasClassifier( build_fn = build_network, \n",
        "                            epochs = 200, \n",
        "                            batch_size = 128)) ])\n",
        "\n",
        "scores = cross_val_score( model, X_train, y_train, cv = 12, scoring =' accuracy', n_jobs =-1) \n",
        "k_clf.fit(X_train, y_train) \n",
        "print(scores)\n",
        "predicted = k_clf_clf.predict(X_test)\n",
        "print(np.mean(predicted == y_test))"
      ],
      "execution_count": 0,
      "outputs": []
    },
    {
      "cell_type": "markdown",
      "metadata": {
        "id": "MuL_SsAH_god",
        "colab_type": "text"
      },
      "source": [
        "*********************************************\n",
        "#### 3. Classifying Images"
      ]
    },
    {
      "cell_type": "code",
      "metadata": {
        "id": "jKf3WIAx_gof",
        "colab_type": "code",
        "colab": {},
        "outputId": "90256cbf-b761-40c9-9722-84d1e46ebaf2"
      },
      "source": [
        "import numpy as np\n",
        "from keras.datasets import mnist\n",
        "from keras.models import Sequential\n",
        "from keras.layers import Dense, Dropout, Flatten\n",
        "from keras.layers.convolutional import Conv2D, MaxPooling2D\n",
        "from keras.utils import np_utils\n",
        "from keras import backend as K\n",
        "\n",
        "# Set that the color channel value will be first\n",
        "K.set_image_data_format(\"channels_first\")\n",
        "\n",
        "# Set seed\n",
        "np.random.seed(0)\n",
        "\n",
        "# Set image information\n",
        "channels = 1\n",
        "height = 28\n",
        "width = 28\n",
        "\n",
        "# Load data and target from MNIST data\n",
        "(data_train, target_train), (data_test, target_test) = mnist.load_data()\n",
        "\n",
        "# Reshape training image data into features\n",
        "data_train = data_train.reshape(data_train.shape[0], channels, height, width)\n",
        "\n",
        "# Reshape test image data into features\n",
        "data_test = data_test.reshape(data_test.shape[0], channels, height, width)\n",
        "\n",
        "# Rescale pixel intensity to between 0 and 1\n",
        "features_train = data_train / 255\n",
        "features_test = data_test / 255\n",
        "\n",
        "# One-hot encode target\n",
        "target_train = np_utils.to_categorical(target_train)\n",
        "target_test = np_utils.to_categorical(target_test)\n",
        "number_of_classes = target_test.shape[1]\n",
        "\n",
        "# Start neural network\n",
        "network = Sequential()\n",
        "\n",
        "# Add convolutional layer with 64 filters, a 5x5 window, and ReLU activation function\n",
        "network.add(Conv2D(filters=64,\n",
        "                   kernel_size=(5, 5),\n",
        "                   input_shape=(channels, width, height),\n",
        "                   activation='relu'))\n",
        "\n",
        "# Add max pooling layer with a 2x2 window\n",
        "network.add(MaxPooling2D(pool_size=(2, 2)))\n",
        "\n",
        "# Add dropout layer\n",
        "network.add(Dropout(0.5))\n",
        "\n",
        "# Add layer to flatten input\n",
        "network.add(Flatten())\n",
        "\n",
        "# # Add fully connected layer of 128 units with a ReLU activation function\n",
        "network.add(Dense(128, activation=\"relu\"))\n",
        "\n",
        "# Add dropout layer\n",
        "network.add(Dropout(0.5))\n",
        "\n",
        "# Add fully connected layer with a softmax activation function\n",
        "network.add(Dense(number_of_classes, activation=\"softmax\"))\n",
        "\n",
        "# Compile neural network\n",
        "network.compile(loss=\"categorical_crossentropy\", # Cross-entropy\n",
        "                optimizer=\"rmsprop\", # Root Mean Square Propagation\n",
        "                metrics=[\"accuracy\"]) # Accuracy performance metric\n",
        "\n",
        "# Train neural network\n",
        "network.fit(features_train, # Features\n",
        "            target_train, # Target\n",
        "            epochs=2, # Number of epochs\n",
        "            verbose=0, # Don't print description after each epoch\n",
        "\n",
        "batch_size=1000, # Number of observations per batch\n",
        "            validation_data=(features_test, target_test)) # Data for evaluation"
      ],
      "execution_count": 0,
      "outputs": [
        {
          "output_type": "stream",
          "text": [
            "Using TensorFlow backend.\n"
          ],
          "name": "stderr"
        },
        {
          "output_type": "execute_result",
          "data": {
            "text/plain": [
              "<keras.callbacks.callbacks.History at 0x120168f3f98>"
            ]
          },
          "metadata": {
            "tags": []
          },
          "execution_count": 7
        }
      ]
    },
    {
      "cell_type": "code",
      "metadata": {
        "id": "3RCrWZs6_gom",
        "colab_type": "code",
        "colab": {},
        "outputId": "c36fe091-8bee-416b-f4b1-6e99483b2cef"
      },
      "source": [
        "score = network.evaluate(features_test, target_test, verbose=0)\n",
        "print('Test loss:', score[0])\n",
        "print('Test accuracy:', score[1])"
      ],
      "execution_count": 0,
      "outputs": [
        {
          "output_type": "stream",
          "text": [
            "Test loss: 0.09088441950436682\n",
            "Test accuracy: 0.9721999764442444\n"
          ],
          "name": "stdout"
        }
      ]
    },
    {
      "cell_type": "markdown",
      "metadata": {
        "id": "LJZBLIzm_gop",
        "colab_type": "text"
      },
      "source": [
        "*************************\n",
        "**Additional References**\n",
        "\n",
        "Machine Learning, NLP: Text Classification using scikit-learn, python and NLTK. Jul 23, 2017\n",
        "https://towardsdatascience.com/machine-learning-nlp-text-classification-using-scikit-learn-python-and-nltk-c52b92a7c73a"
      ]
    }
  ]
}